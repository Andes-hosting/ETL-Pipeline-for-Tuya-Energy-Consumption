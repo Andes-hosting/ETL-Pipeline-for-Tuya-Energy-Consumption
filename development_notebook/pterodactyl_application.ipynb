{
 "cells": [
  {
   "cell_type": "markdown",
   "metadata": {},
   "source": [
    "# ETL Pterodactyl Minecraft Application\n",
    "\n",
    "### Index\n",
    "\n",
    "- Install requierements\n",
    "- Import libraries and setup key variables\n",
    "- Setup directories, functions and folder creation\n",
    "- Get Pterodactyl Application information\n",
    "- Upload csv table files into Postgres"
   ]
  },
  {
   "cell_type": "markdown",
   "metadata": {},
   "source": [
    "## Install requierements"
   ]
  },
  {
   "cell_type": "code",
   "execution_count": null,
   "metadata": {},
   "outputs": [],
   "source": [
    "pip install -r requirements.txt"
   ]
  },
  {
   "cell_type": "markdown",
   "metadata": {},
   "source": [
    "## Import libraries and setup key variables\n",
    "Remember to add you own credentials in the .env file for them to be loaded here"
   ]
  },
  {
   "cell_type": "code",
   "execution_count": 1,
   "metadata": {},
   "outputs": [
    {
     "data": {
      "text/plain": [
       "{'result': {'access_token': '8790265393fdcf776c0432c9205ba2ca',\n",
       "  'expire_time': 5247,\n",
       "  'refresh_token': 'bd1b217d15a6b24a99c55de20d1f3cb6',\n",
       "  'uid': 'bay1692115764835sO5E'},\n",
       " 'success': True,\n",
       " 't': 1703788119116,\n",
       " 'tid': 'eb9fd438a5ae11eea429ba1d23b51364'}"
      ]
     },
     "execution_count": 1,
     "metadata": {},
     "output_type": "execute_result"
    }
   ],
   "source": [
    "import datetime, csv, os\n",
    "from sqlalchemy import create_engine, text\n",
    "from dotenv import load_dotenv\n",
    "from tuya_connector import TuyaOpenAPI\n",
    "import pandas as pd\n",
    "\n",
    "# Load .env file credentials\n",
    "load_dotenv()\n",
    "\n",
    "# Database connection\n",
    "host = os.getenv('POSTGRES_HOST')\n",
    "port = os.getenv('POSTGRES_PORT')\n",
    "database = os.getenv('POSTGRES_DATABASE')\n",
    "username = os.getenv('POSTGRES_USERNAME')\n",
    "password = os.getenv('POSTGRES_PASSWORD')\n",
    "connection = f'postgresql://{username}:{password}@{host}:{port}/{database}'\n",
    "\n",
    "# Tuya connection\n",
    "api_endpoint = os.getenv('API_ENDPOINT')\n",
    "access_id = os.getenv('ACCESS_ID')\n",
    "access_key = os.getenv('ACCESS_KEY')\n",
    "\n",
    "\n",
    "# Connecto to Tuya API\n",
    "openapi = TuyaOpenAPI(api_endpoint, access_id, access_key)\n",
    "openapi.connect()"
   ]
  },
  {
   "cell_type": "markdown",
   "metadata": {},
   "source": [
    "## Setup directories, functions and folder creation"
   ]
  },
  {
   "cell_type": "code",
   "execution_count": 2,
   "metadata": {},
   "outputs": [],
   "source": []
  },
  {
   "cell_type": "markdown",
   "metadata": {},
   "source": [
    "## Get Tuya's devices information"
   ]
  },
  {
   "cell_type": "code",
   "execution_count": 3,
   "metadata": {},
   "outputs": [
    {
     "name": "stdout",
     "output_type": "stream",
     "text": [
      "{'result': {'active_time': 1699992947, 'biz_type': 0, 'category': 'cz', 'create_time': 1699992947, 'icon': 'smart/icon/ay15422864509092y6k8/b14b6f478edbfbb218d5476f345306f4.png', 'id': 'eb0ea8501691a1a3315i1v', 'ip': '186.78.2.98', 'lat': '-33.0500', 'local_key': 'PAuUq/jU99D;VP[_', 'lon': '-71.6200', 'model': 'LSP-DL', 'name': 'DataCenter Karina', 'online': True, 'owner_id': '165624421', 'product_id': 'wrz6vzch8htux2zp', 'product_name': 'WiFi Plug', 'status': [{'code': 'switch_1', 'value': True}, {'code': 'countdown_1', 'value': 0}, {'code': 'add_ele', 'value': 41}, {'code': 'cur_current', 'value': 470}, {'code': 'cur_power', 'value': 984}, {'code': 'cur_voltage', 'value': 2288}, {'code': 'relay_status', 'value': 'last'}, {'code': 'overcharge_switch', 'value': False}, {'code': 'light_mode', 'value': 'relay'}, {'code': 'child_lock', 'value': False}, {'code': 'cycle_time', 'value': ''}, {'code': 'random_time', 'value': ''}, {'code': 'switch_inching', 'value': ''}], 'sub': False, 'time_zone': '-03:00', 'uid': 'az1692113724715ZPqW7', 'update_time': 1703711281, 'uuid': '4723859d2abd9f12'}, 'success': True, 't': 1703788125753, 'tid': 'ef89fca5a5ae11ee9212a2353e8c4b69'}\n"
     ]
    }
   ],
   "source": [
    "uid = ''\n",
    "project_id = ''\n",
    "device_id = ''\n",
    "#response = openapi.get(f'/v1.0/users/{uid}/devices') \n",
    "#response = openapi.get(f'/v1.0/osaas/projects/{project_id}')\n",
    "response = openapi.get(f'/v1.0/devices/{device_id}')\n",
    "print(response)"
   ]
  },
  {
   "cell_type": "markdown",
   "metadata": {},
   "source": [
    "## Upload csv table files into Postgres"
   ]
  },
  {
   "cell_type": "code",
   "execution_count": null,
   "metadata": {},
   "outputs": [],
   "source": [
    "engine = create_engine(connection)\n",
    "\n",
    "for file_table in os.listdir(server_app_folder):\n",
    "\n",
    "    # Setup database variables\n",
    "    ID = 'id'\n",
    "    TABLE = file_table.split('.')[0]\n",
    "    TABLE_UPDATE = TABLE + '_update'\n",
    "    IS_ACTIVE_TABLE = 'is_active_table'\n",
    "    SCHEMA = 'pterodactyl'\n",
    "    SCHEMA_UPDATE = 'pterodactyl_update'\n",
    "    \n",
    "    # Reading of the file_table\n",
    "    df = pd.read_csv(os.path.join(server_app_folder, file_table))\n",
    "\n",
    "    # Start connection with database\n",
    "    with engine.connect() as conn:\n",
    "        # Start a new transaction\n",
    "        trans = conn.begin()\n",
    "\n",
    "        try:\n",
    "            # Load ID from database\n",
    "            result = conn.execute(text(f'SELECT \"{ID}\" FROM {SCHEMA}.{TABLE}'))\n",
    "            db = pd.DataFrame(result.fetchall(), columns=result.keys())\n",
    "\n",
    "            # Compare ID\n",
    "            sameID = db[ID].isin(df[ID])\n",
    "\n",
    "            toUpdate = df[df[ID].isin(db[ID][sameID])]\n",
    "            toIngest = df[~df[ID].isin(db[ID][sameID])]\n",
    "            toDelete = db[~db[ID].isin(df[ID])]\n",
    "\n",
    "            # Insert the DataFrame into a table\n",
    "            toIngest.to_sql(TABLE, conn, schema=SCHEMA, if_exists='append', index=False)\n",
    "\n",
    "            # Insert the updatable DataFrame into the TABLE_UPDATE table\n",
    "            toUpdate.to_sql(TABLE_UPDATE, conn, schema=SCHEMA_UPDATE, if_exists='append', index=False)\n",
    "\n",
    "            # Define and execute the following queries\n",
    "            conn.execute(text(f'DELETE FROM {SCHEMA}.{TABLE} WHERE \"{ID}\" IN (SELECT \"{ID}\" FROM {SCHEMA_UPDATE}.{TABLE_UPDATE});'))\n",
    "            conn.execute(text(f'INSERT INTO {SCHEMA}.{TABLE} SELECT * FROM {SCHEMA_UPDATE}.{TABLE_UPDATE};'))\n",
    "            conn.execute(text(f'TRUNCATE TABLE {SCHEMA_UPDATE}.{TABLE_UPDATE};'))\n",
    "\n",
    "            # Update column \"is_active\" from tables when data is deleted from Pterodactyl App\n",
    "            toDelete.to_sql(IS_ACTIVE_TABLE, conn, schema=SCHEMA_UPDATE, if_exists='append', index=False)\n",
    "            conn.execute(text(f'UPDATE {SCHEMA}.{TABLE} SET is_active = false WHERE \"{ID}\" IN (SELECT * FROM {SCHEMA_UPDATE}.{IS_ACTIVE_TABLE});'))\n",
    "            conn.execute(text(f'TRUNCATE TABLE {SCHEMA_UPDATE}.{IS_ACTIVE_TABLE};'))\n",
    "\n",
    "            # Commit the transaction\n",
    "            trans.commit()\n",
    "\n",
    "        except Exception as e:\n",
    "            # Rollback the transaction on exception\n",
    "            print('!!! [ERROR IN DATABASE QUERIES] !!!')\n",
    "            trans.rollback()\n",
    "            print('Transaction has been rolled back')\n",
    "            print(f'Error occurred during transaction:\\n{e}')\n",
    "            raise\n",
    "\n",
    "with engine.connect() as conn:\n",
    "    # Start a new transaction\n",
    "    trans = conn.begin()\n",
    "\n",
    "    try:\n",
    "        # Update date from the last_update table based on max date on the file\n",
    "        old_last_update = conn.execute(text(f'SELECT date FROM {SCHEMA}.last_update')).fetchall()[0][0]\n",
    "        new_last_update = last_update\n",
    "        if new_last_update > old_last_update:\n",
    "            conn.execute(text(f\"UPDATE {SCHEMA}.last_update SET date = '{new_last_update}';\"))\n",
    "\n",
    "        # Commit the transaction\n",
    "        trans.commit()\n",
    "\n",
    "    except Exception as e:\n",
    "        # Rollback the transaction on exception\n",
    "        print('!!! [ERROR IN DATABASE QUERIES] !!!')\n",
    "        trans.rollback()\n",
    "        print('Transaction has been rolled back')\n",
    "        print(f'Error occurred during transaction:\\n{e}')\n",
    "        raise"
   ]
  }
 ],
 "metadata": {
  "kernelspec": {
   "display_name": "Python 3 (ipykernel)",
   "language": "python",
   "name": "python3"
  },
  "language_info": {
   "codemirror_mode": {
    "name": "ipython",
    "version": 3
   },
   "file_extension": ".py",
   "mimetype": "text/x-python",
   "name": "python",
   "nbconvert_exporter": "python",
   "pygments_lexer": "ipython3",
   "version": "3.11.4"
  },
  "orig_nbformat": 4
 },
 "nbformat": 4,
 "nbformat_minor": 2
}
